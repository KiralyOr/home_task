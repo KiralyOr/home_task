{
 "cells": [
  {
   "cell_type": "code",
   "execution_count": 54,
   "id": "ca2bf44e",
   "metadata": {},
   "outputs": [],
   "source": [
    "cards = [\"10D\", \"10H\", \"10C\", \"2S\", \"2H\", \"2D\", \"JH\", \"JC\"]\n"
   ]
  },
  {
   "cell_type": "code",
   "execution_count": 55,
   "id": "9d475107",
   "metadata": {},
   "outputs": [],
   "source": [
    "def get_card_value(card):\n",
    "    card_value = card[:-1]\n",
    "    if card_value == 'J':\n",
    "        return 11\n",
    "    elif card_value == 'Q':\n",
    "        return 12\n",
    "    elif card_value == 'K':\n",
    "        return 13\n",
    "    elif card_value == 'A':\n",
    "        return 14\n",
    "    else:\n",
    "        return int(card_value)\n"
   ]
  },
  {
   "cell_type": "code",
   "execution_count": 56,
   "id": "7f5a47ac",
   "metadata": {},
   "outputs": [],
   "source": [
    "def get_suit_value(card):\n",
    "    suit_value = card[-1]\n",
    "    if suit_value == 'S':\n",
    "        return 1\n",
    "    elif suit_value == 'H':\n",
    "        return 2\n",
    "    elif suit_value == 'D':\n",
    "        return 3\n",
    "    elif suit_value == 'C':\n",
    "        return 4\n",
    "    else:\n",
    "        return int(suit_value)\n"
   ]
  },
  {
   "cell_type": "code",
   "execution_count": 68,
   "id": "a66b34f5",
   "metadata": {},
   "outputs": [],
   "source": [
    "cards_exists =  [1, 0, 0, 0, 0, 0, 0, 0, 1, 1, 0, 0, 0]\n",
    "def get_highest_sequence(cards_exists):\n",
    "    pass"
   ]
  },
  {
   "cell_type": "code",
   "execution_count": null,
   "id": "76025261",
   "metadata": {},
   "outputs": [],
   "source": [
    "def get_best_hand(highest_card_value, \n",
    "                  pairs, \n",
    "                  triples,\n",
    "                  highes_suit_value,\n",
    "                 card_count,\n",
    "                 suit_count):\n",
    "    if highes_suit_value > 0:\n",
    "        result = ('suit', suit_count[highes_suit_value])\n",
    "    elif    "
   ]
  },
  {
   "cell_type": "code",
   "execution_count": 73,
   "id": "5477f8b8",
   "metadata": {},
   "outputs": [],
   "source": [
    "def solution(cards: list):\n",
    "\n",
    "    card_count = {}\n",
    "    suit_count = {}\n",
    "   \n",
    "    highest_card_value = 0\n",
    "    pairs = []\n",
    "    triples = []\n",
    "    highes_suit_value = 0\n",
    "    cards_exists = [0]*13\n",
    "    for card in cards:\n",
    "        card_value = get_card_value(card)\n",
    "        suit_value = get_suit_value(card)\n",
    "        if card_value in card_count:\n",
    "            card_count[card_value].append(card)\n",
    "        else:\n",
    "            card_count[card_value] = [card]\n",
    "        \n",
    "        if suit_value in suit_count:\n",
    "            suit_count[suit_value].append(card)\n",
    "        else: \n",
    "            suit_count[suit_value] = [card]\n",
    "            \n",
    "        if card_value > highest_card_value:\n",
    "            highest_card_value = card_value\n",
    "        \n",
    "        if len(card_count[card_value]) == 2:\n",
    "            pairs.append(card_value)\n",
    "       \n",
    "        if len(card_count[card_value]) == 3:\n",
    "            triples.append(card_value)\n",
    "            \n",
    "        if len(suit_count[suit_value]) == 5:\n",
    "            if suit_value > highes_suit_value:\n",
    "                highes_suit_value = suit_value\n",
    "        \n",
    "        cards_exists[card_value - 2] = 1\n",
    "        \n",
    "    return {'highest_card_value' : highest_card_value, \n",
    "            'pairs' : pairs, \n",
    "            'triples' :triples, \n",
    "            'card_count' : card_count, \n",
    "            'suit_count' : suit_count, \n",
    "            'highes_suit_value' : highes_suit_value, \n",
    "            'cards_exists' : cards_exists\n",
    "           }"
   ]
  },
  {
   "cell_type": "code",
   "execution_count": 74,
   "id": "f95a8b99",
   "metadata": {},
   "outputs": [
    {
     "data": {
      "text/plain": [
       "{'highest_card_value': 11,\n",
       " 'pairs': [10, 2, 11],\n",
       " 'triples': [10, 2],\n",
       " 'card_count': {10: ['10D', '10H', '10C'],\n",
       "  2: ['2S', '2H', '2D'],\n",
       "  11: ['JH', 'JC']},\n",
       " 'suit_count': {3: ['10D', '2D'],\n",
       "  2: ['10H', '2H', 'JH'],\n",
       "  4: ['10C', 'JC'],\n",
       "  1: ['2S']},\n",
       " 'highes_suit_value': 0,\n",
       " 'cards_exists': [1, 0, 0, 0, 0, 0, 0, 0, 1, 1, 0, 0, 0]}"
      ]
     },
     "execution_count": 74,
     "metadata": {},
     "output_type": "execute_result"
    }
   ],
   "source": [
    "solution(cards)"
   ]
  }
 ],
 "metadata": {
  "kernelspec": {
   "display_name": "Python 3 (ipykernel)",
   "language": "python",
   "name": "python3"
  },
  "language_info": {
   "codemirror_mode": {
    "name": "ipython",
    "version": 3
   },
   "file_extension": ".py",
   "mimetype": "text/x-python",
   "name": "python",
   "nbconvert_exporter": "python",
   "pygments_lexer": "ipython3",
   "version": "3.9.18"
  }
 },
 "nbformat": 4,
 "nbformat_minor": 5
}
